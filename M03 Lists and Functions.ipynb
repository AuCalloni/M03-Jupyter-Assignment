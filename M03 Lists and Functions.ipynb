{
 "cells": [
  {
   "metadata": {},
   "cell_type": "markdown",
   "source": "7.4: Make a list called things with these three strings as elements: \"mozzarella\", \"cinderella\", \"salmonella\".",
   "id": "a189b73bada254c1"
  },
  {
   "metadata": {
    "ExecuteTime": {
     "end_time": "2024-06-17T21:59:23.901560Z",
     "start_time": "2024-06-17T21:59:23.896604Z"
    }
   },
   "cell_type": "code",
   "source": [
    "import random\n",
    "\n",
    "things = [\"mozzarella\", \"cinderella\", \"salmonella\"]"
   ],
   "id": "36594a3325157654",
   "outputs": [],
   "execution_count": 1
  },
  {
   "metadata": {},
   "cell_type": "markdown",
   "source": [
    "7.5: Capitalize the element in things that refers to a person and then print the list. Did it change the element in the list?\n",
    "A: Yes. Lists are mutable.\n"
   ],
   "id": "423e02807bde671"
  },
  {
   "metadata": {
    "ExecuteTime": {
     "end_time": "2024-06-17T22:11:17.266588Z",
     "start_time": "2024-06-17T22:11:17.263759Z"
    }
   },
   "cell_type": "code",
   "source": [
    "things[1] = things[1].capitalize()\n",
    "print(things)"
   ],
   "id": "b9d85ac2d6515be0",
   "outputs": [
    {
     "name": "stdout",
     "output_type": "stream",
     "text": [
      "['mozzarella', 'Cinderella', 'salmonella']\n"
     ]
    }
   ],
   "execution_count": 5
  },
  {
   "metadata": {},
   "cell_type": "markdown",
   "source": "7.6 Make the cheesy element of things all uppercase and then print the list.",
   "id": "3d3ada680e6dac34"
  },
  {
   "metadata": {
    "ExecuteTime": {
     "end_time": "2024-06-17T22:12:51.397769Z",
     "start_time": "2024-06-17T22:12:51.394873Z"
    }
   },
   "cell_type": "code",
   "source": [
    "things[0] = things[0].upper()\n",
    "print(things)"
   ],
   "id": "a425d4a3a87e5e98",
   "outputs": [
    {
     "name": "stdout",
     "output_type": "stream",
     "text": [
      "['MOZZARELLA', 'Cinderella', 'salmonella']\n"
     ]
    }
   ],
   "execution_count": 6
  },
  {
   "metadata": {},
   "cell_type": "markdown",
   "source": "7.7 Delete the disease element from things, collect your Nobel Prize, and print the list.",
   "id": "20396dd4e5105897"
  },
  {
   "metadata": {
    "ExecuteTime": {
     "end_time": "2024-06-17T22:15:05.875469Z",
     "start_time": "2024-06-17T22:15:05.872666Z"
    }
   },
   "cell_type": "code",
   "source": [
    "things.pop(2)\n",
    "print(things)"
   ],
   "id": "d7535f0c75b37d37",
   "outputs": [
    {
     "name": "stdout",
     "output_type": "stream",
     "text": [
      "['MOZZARELLA', 'Cinderella']\n"
     ]
    }
   ],
   "execution_count": 7
  },
  {
   "metadata": {},
   "cell_type": "markdown",
   "source": "9.1 Define a function called good() that returns the following list: ['Harry', 'Ron', 'Hermione'].",
   "id": "b51fb17fb2f44bee"
  },
  {
   "metadata": {
    "ExecuteTime": {
     "end_time": "2024-06-17T22:17:49.115032Z",
     "start_time": "2024-06-17T22:17:49.112131Z"
    }
   },
   "cell_type": "code",
   "source": [
    "def good():\n",
    "    return ['Harry', \"Ron\", \"Hermione\"]"
   ],
   "id": "101f5738b2db24ad",
   "outputs": [
    {
     "name": "stdout",
     "output_type": "stream",
     "text": [
      "['Harry', 'Ron', 'Hermione']\n"
     ]
    }
   ],
   "execution_count": 9
  },
  {
   "metadata": {},
   "cell_type": "markdown",
   "source": "9.2 Define a generator function called get_odds() that returns the odd numbers from range(10). Use a for loop to find and print the third value returned.",
   "id": "2298588ed4095f7e"
  },
  {
   "metadata": {
    "ExecuteTime": {
     "end_time": "2024-06-17T22:30:00.426031Z",
     "start_time": "2024-06-17T22:30:00.422361Z"
    }
   },
   "cell_type": "code",
   "source": [
    "def get_odds(max_range):\n",
    "    for i in range(max_range):\n",
    "        if i % 2 != 0:\n",
    "            yield i\n",
    "\n",
    "iterator = 0\n",
    "for num in get_odds(10):\n",
    "    if iterator == 2:\n",
    "        print(num)\n",
    "    iterator += 1"
   ],
   "id": "bc73206828ebd0b2",
   "outputs": [
    {
     "name": "stdout",
     "output_type": "stream",
     "text": [
      "5\n"
     ]
    }
   ],
   "execution_count": 24
  },
  {
   "metadata": {},
   "cell_type": "code",
   "outputs": [],
   "execution_count": null,
   "source": "",
   "id": "a3d9a280537e68a4"
  }
 ],
 "metadata": {
  "kernelspec": {
   "display_name": "Python 3",
   "language": "python",
   "name": "python3"
  },
  "language_info": {
   "codemirror_mode": {
    "name": "ipython",
    "version": 2
   },
   "file_extension": ".py",
   "mimetype": "text/x-python",
   "name": "python",
   "nbconvert_exporter": "python",
   "pygments_lexer": "ipython2",
   "version": "2.7.6"
  }
 },
 "nbformat": 4,
 "nbformat_minor": 5
}
